{
 "cells": [
  {
   "cell_type": "code",
   "execution_count": null,
   "id": "c6f84e81",
   "metadata": {},
   "outputs": [],
   "source": []
  },
  {
   "cell_type": "code",
   "execution_count": 27,
   "id": "36c2de9d",
   "metadata": {},
   "outputs": [],
   "source": [
    "import pandas as pd\n",
    "import sqlite3\n"
   ]
  },
  {
   "cell_type": "code",
   "execution_count": 28,
   "id": "0267c64e",
   "metadata": {},
   "outputs": [],
   "source": [
    "# DATASET CSV USADO: https://dataverse.harvard.edu/dataset.xhtml?persistentId=doi:10.7910/DVN/XPT7L0\n",
    "\n",
    "\n",
    "# Cargando los datos desde el archivo CSV\n",
    "data = pd.read_csv(\"Smoking Covid-19 Patients.csv\")\n",
    "\n"
   ]
  },
  {
   "cell_type": "code",
   "execution_count": 29,
   "id": "3839f869",
   "metadata": {},
   "outputs": [
    {
     "name": "stdout",
     "output_type": "stream",
     "text": [
      "        City Age Sex Smoke\n",
      "0     Tehran  46   M    No\n",
      "1     Tehran  65   M   Yes\n",
      "2     Tehran  39   M    No\n",
      "3     Tehran  42   F    No\n",
      "4     Tehran  31   M   Yes\n",
      "...      ...  ..  ..   ...\n",
      "1035  Tehran  74   M    No\n",
      "1036  Tehran  86   M    No\n",
      "1037  Tehran  78   M    No\n",
      "1038  Tehran  55   M    No\n",
      "1039  Tehran  67   M    No\n",
      "\n",
      "[1040 rows x 4 columns]\n"
     ]
    }
   ],
   "source": [
    "print(data)"
   ]
  },
  {
   "cell_type": "code",
   "execution_count": 30,
   "id": "a295eeb6",
   "metadata": {},
   "outputs": [],
   "source": [
    "# Mostrar los primeros registros del dataset\n",
    "#print(data.head(100))"
   ]
  },
  {
   "cell_type": "code",
   "execution_count": 39,
   "id": "6ea8a7f1",
   "metadata": {},
   "outputs": [],
   "source": [
    "# Eliminar todas las filas con datos faltantes\n",
    "datos_limpio = data.dropna()\n",
    "\n",
    "# Eliminar todas las columnas con datos faltantes\n",
    "datos_limpio = data.dropna(axis=1)\n",
    "\n",
    "#df_filtrado = datos_limpio.iloc[:100, [0, 1, 2, 3]]\n"
   ]
  },
  {
   "cell_type": "code",
   "execution_count": 40,
   "id": "be71444b",
   "metadata": {},
   "outputs": [
    {
     "name": "stdout",
     "output_type": "stream",
     "text": [
      "        City Sex Smoke\n",
      "0     Tehran   M    No\n",
      "1     Tehran   M   Yes\n",
      "2     Tehran   M    No\n",
      "3     Tehran   F    No\n",
      "4     Tehran   M   Yes\n",
      "...      ...  ..   ...\n",
      "1035  Tehran   M    No\n",
      "1036  Tehran   M    No\n",
      "1037  Tehran   M    No\n",
      "1038  Tehran   M    No\n",
      "1039  Tehran   M    No\n",
      "\n",
      "[1040 rows x 3 columns]\n"
     ]
    }
   ],
   "source": [
    "print(datos_limpio)"
   ]
  },
  {
   "cell_type": "code",
   "execution_count": 45,
   "id": "e87c8fd0",
   "metadata": {},
   "outputs": [],
   "source": [
    "#CONEXION A LA BDD\n",
    "\n",
    "\n",
    "conexion = sqlite3.connect(\"covid19Database.db\")\n",
    "conexion.execute(\"DROP TABLE dataCovid;\")\n",
    "conexion.execute(\"CREATE TABLE dataCovid (City TEXT, Sex TEXT, Smoke TEXT)\")\n",
    "\n",
    "datos_limpio.to_sql(\"dataCovid\", conexion, if_exists=\"replace\")\n",
    "\n",
    "\n",
    "conexion.close()"
   ]
  },
  {
   "cell_type": "code",
   "execution_count": null,
   "id": "69ee61e7",
   "metadata": {},
   "outputs": [],
   "source": []
  }
 ],
 "metadata": {
  "kernelspec": {
   "display_name": "Python 3 (ipykernel)",
   "language": "python",
   "name": "python3"
  },
  "language_info": {
   "codemirror_mode": {
    "name": "ipython",
    "version": 3
   },
   "file_extension": ".py",
   "mimetype": "text/x-python",
   "name": "python",
   "nbconvert_exporter": "python",
   "pygments_lexer": "ipython3",
   "version": "3.10.5"
  }
 },
 "nbformat": 4,
 "nbformat_minor": 5
}
