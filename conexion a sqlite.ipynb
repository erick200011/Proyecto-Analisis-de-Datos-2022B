{
 "cells": [
  {
   "cell_type": "code",
   "execution_count": null,
   "id": "c6f84e81",
   "metadata": {},
   "outputs": [],
   "source": []
  },
  {
   "cell_type": "code",
   "execution_count": 8,
   "id": "36c2de9d",
   "metadata": {},
   "outputs": [],
   "source": [
    "import pandas as pd\n",
    "import sqlite3\n"
   ]
  },
  {
   "cell_type": "code",
   "execution_count": 9,
   "id": "0267c64e",
   "metadata": {},
   "outputs": [],
   "source": [
    "# DATASET CSV USADO: https://www.healthdata.org/covid/data-downloads\n",
    "\n",
    "\n",
    "# Cargando los datos desde el archivo CSV\n",
    "data = pd.read_csv(\"WHO-COVID-19-global-data.csv\")\n",
    "\n"
   ]
  },
  {
   "cell_type": "code",
   "execution_count": 10,
   "id": "3839f869",
   "metadata": {},
   "outputs": [
    {
     "name": "stdout",
     "output_type": "stream",
     "text": [
      "       Date_reported Country_code      Country WHO_region  New_cases  \\\n",
      "0         2020-01-03           AF  Afghanistan       EMRO          0   \n",
      "1         2020-01-04           AF  Afghanistan       EMRO          0   \n",
      "2         2020-01-05           AF  Afghanistan       EMRO          0   \n",
      "3         2020-01-06           AF  Afghanistan       EMRO          0   \n",
      "4         2020-01-07           AF  Afghanistan       EMRO          0   \n",
      "...              ...          ...          ...        ...        ...   \n",
      "273256    2023-02-24           ZW     Zimbabwe       AFRO          0   \n",
      "273257    2023-02-25           ZW     Zimbabwe       AFRO          0   \n",
      "273258    2023-02-26           ZW     Zimbabwe       AFRO          0   \n",
      "273259    2023-02-27           ZW     Zimbabwe       AFRO          0   \n",
      "273260    2023-02-28           ZW     Zimbabwe       AFRO          0   \n",
      "\n",
      "        Cumulative_cases  New_deaths  Cumulative_deaths  \n",
      "0                      0           0                  0  \n",
      "1                      0           0                  0  \n",
      "2                      0           0                  0  \n",
      "3                      0           0                  0  \n",
      "4                      0           0                  0  \n",
      "...                  ...         ...                ...  \n",
      "273256            263921           0               5663  \n",
      "273257            263921           0               5663  \n",
      "273258            263921           0               5663  \n",
      "273259            263921           0               5663  \n",
      "273260            263921           0               5663  \n",
      "\n",
      "[273261 rows x 8 columns]\n"
     ]
    }
   ],
   "source": [
    "print(data)"
   ]
  },
  {
   "cell_type": "code",
   "execution_count": 11,
   "id": "a295eeb6",
   "metadata": {},
   "outputs": [
    {
     "name": "stdout",
     "output_type": "stream",
     "text": [
      "   Date_reported Country_code      Country WHO_region  New_cases  \\\n",
      "0     2020-01-03           AF  Afghanistan       EMRO          0   \n",
      "1     2020-01-04           AF  Afghanistan       EMRO          0   \n",
      "2     2020-01-05           AF  Afghanistan       EMRO          0   \n",
      "3     2020-01-06           AF  Afghanistan       EMRO          0   \n",
      "4     2020-01-07           AF  Afghanistan       EMRO          0   \n",
      "..           ...          ...          ...        ...        ...   \n",
      "95    2020-04-07           AF  Afghanistan       EMRO         30   \n",
      "96    2020-04-08           AF  Afghanistan       EMRO         56   \n",
      "97    2020-04-09           AF  Afghanistan       EMRO         21   \n",
      "98    2020-04-10           AF  Afghanistan       EMRO         77   \n",
      "99    2020-04-11           AF  Afghanistan       EMRO          0   \n",
      "\n",
      "    Cumulative_cases  New_deaths  Cumulative_deaths  \n",
      "0                  0           0                  0  \n",
      "1                  0           0                  0  \n",
      "2                  0           0                  0  \n",
      "3                  0           0                  0  \n",
      "4                  0           0                  0  \n",
      "..               ...         ...                ...  \n",
      "95               367           4                 11  \n",
      "96               423           3                 14  \n",
      "97               444           1                 15  \n",
      "98               521           0                 15  \n",
      "99               521           0                 15  \n",
      "\n",
      "[100 rows x 8 columns]\n"
     ]
    }
   ],
   "source": [
    "# Mostrar los primeros registros del dataset\n",
    "print(data.head(100))"
   ]
  },
  {
   "cell_type": "code",
   "execution_count": 21,
   "id": "6ea8a7f1",
   "metadata": {},
   "outputs": [],
   "source": [
    "# Eliminar todas las filas con datos faltantes\n",
    "datos_limpio = data.dropna()\n",
    "\n",
    "# Eliminar todas las columnas con datos faltantes\n",
    "datos_limpio = data.dropna(axis=1)\n",
    "\n",
    "#print(datos_limpio)\n",
    "\n",
    "df_filtrado = datos_limpio.iloc[:10000, [0, 1, 2, 3]]\n"
   ]
  },
  {
   "cell_type": "code",
   "execution_count": 22,
   "id": "8c0adf60",
   "metadata": {},
   "outputs": [
    {
     "name": "stdout",
     "output_type": "stream",
     "text": [
      "     Date_reported      Country WHO_region  New_cases\n",
      "0       2020-01-03  Afghanistan       EMRO          0\n",
      "1       2020-01-04  Afghanistan       EMRO          0\n",
      "2       2020-01-05  Afghanistan       EMRO          0\n",
      "3       2020-01-06  Afghanistan       EMRO          0\n",
      "4       2020-01-07  Afghanistan       EMRO          0\n",
      "...            ...          ...        ...        ...\n",
      "9995    2022-02-12    Argentina       AMRO       7898\n",
      "9996    2022-02-13    Argentina       AMRO       5059\n",
      "9997    2022-02-14    Argentina       AMRO      15258\n",
      "9998    2022-02-15    Argentina       AMRO      15935\n",
      "9999    2022-02-16    Argentina       AMRO      15888\n",
      "\n",
      "[10000 rows x 4 columns]\n"
     ]
    }
   ],
   "source": [
    "print(df_filtrado)"
   ]
  },
  {
   "cell_type": "code",
   "execution_count": 26,
   "id": "e87c8fd0",
   "metadata": {},
   "outputs": [],
   "source": [
    "#CONEXION A LA BDD\n",
    "\n",
    "\n",
    "conexion = sqlite3.connect(\"covid19Database.db\")\n",
    "conexion.execute(\"DROP TABLE dataCovid;\")\n",
    "conexion.execute(\"CREATE TABLE dataCovid (Date_reported TEXT, Country TEXT, WHO_region TEXT, New_cases TEXT)\")\n",
    "\n",
    "df_filtrado.to_sql(\"dataCovid\", conexion, if_exists=\"replace\")\n",
    "\n",
    "\n",
    "conexion.close()"
   ]
  },
  {
   "cell_type": "code",
   "execution_count": null,
   "id": "8951c37c",
   "metadata": {},
   "outputs": [],
   "source": []
  }
 ],
 "metadata": {
  "kernelspec": {
   "display_name": "Python 3 (ipykernel)",
   "language": "python",
   "name": "python3"
  },
  "language_info": {
   "codemirror_mode": {
    "name": "ipython",
    "version": 3
   },
   "file_extension": ".py",
   "mimetype": "text/x-python",
   "name": "python",
   "nbconvert_exporter": "python",
   "pygments_lexer": "ipython3",
   "version": "3.10.5"
  }
 },
 "nbformat": 4,
 "nbformat_minor": 5
}
